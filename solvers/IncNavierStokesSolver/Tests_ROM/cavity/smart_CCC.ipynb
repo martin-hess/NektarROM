{
 "cells": [
  {
   "cell_type": "code",
   "execution_count": null,
   "metadata": {},
   "outputs": [],
   "source": [
    "from __future__ import absolute_import, division, print_function, unicode_literals\n",
    "\n",
    "# TensorFlow and tf.keras\n",
    "import tensorflow as tf\n",
    "from tensorflow import keras\n",
    "\n",
    "# Helper libraries\n",
    "import numpy as np\n",
    "import matplotlib.pyplot as plt\n",
    "\n",
    "print(tf.__version__)\n"
   ]
  },
  {
   "cell_type": "code",
   "execution_count": 12,
   "metadata": {},
   "outputs": [
    {
     "name": "stdout",
     "output_type": "stream",
     "text": [
      "(100000, 20)\n",
      "(100000, 22)\n",
      "(100000, 20)\n",
      "(100000, 22)\n"
     ]
    }
   ],
   "source": [
    "f_x30 = open('30_single/VCS_fields_TT_x_ROM.txt', 'r')\n",
    "x30 = np.loadtxt(f_x30)\n",
    "print(x30.shape)\n",
    "f_y30 = open('30_single/VCS_fields_TT_y_ROM.txt', 'r')\n",
    "y30 = np.loadtxt(f_y30)\n",
    "print(y30.shape)\n",
    "f_x28 = open('28_single/VCS_fields_TT_x_ROM.txt', 'r')\n",
    "x28 = np.loadtxt(f_x28)\n",
    "print(x28.shape)\n",
    "f_y28 = open('28_single/VCS_fields_TT_y_ROM.txt', 'r')\n",
    "y28 = np.loadtxt(f_y28)\n",
    "print(y28.shape)"
   ]
  },
  {
   "cell_type": "code",
   "execution_count": 13,
   "metadata": {},
   "outputs": [
    {
     "name": "stdout",
     "output_type": "stream",
     "text": [
      "20\n",
      "22\n"
     ]
    }
   ],
   "source": [
    "dim_x = int(x30.shape[1])\n",
    "dim_y = int(y30.shape[1])\n",
    "print(dim_x)\n",
    "print(dim_y)\n",
    "#f_sample_grid_d1 = open('sample_grid_d1.txt', 'r')\n",
    "#sample_grid_d1 = 2*(np.loadtxt(f_sample_grid_d1) - 0.5)\n",
    "#sample_grid_d1 = np.loadtxt(f_sample_grid_d1)\n",
    "#print(sample_grid_d1)\n",
    "#f_sample_grid_d2 = open('sample_grid_d2.txt', 'r')\n",
    "#sample_grid_d2 = 10*(np.loadtxt(f_sample_grid_d2) - 0.1)\n",
    "#sample_grid_d2 = np.loadtxt(f_sample_grid_d2)\n",
    "#print(sample_grid_d2)"
   ]
  },
  {
   "cell_type": "code",
   "execution_count": 20,
   "metadata": {},
   "outputs": [
    {
     "name": "stdout",
     "output_type": "stream",
     "text": [
      "[[ 5.75274955e+03  5.41552348e+03  4.43526365e+02 ...  1.90554095e+00\n",
      "  -1.99106091e+01  8.16375429e+00]\n",
      " [ 5.75165561e+03  5.41490095e+03  4.41823171e+02 ...  1.89977761e+00\n",
      "  -1.99094891e+01  8.16219945e+00]\n",
      " [ 5.75056410e+03  5.41427517e+03  4.40118368e+02 ...  1.89295461e+00\n",
      "  -1.99077719e+01  8.16072875e+00]\n",
      " ...\n",
      " [ 6.75353671e+03  5.34840064e+03  1.35542855e+03 ...  5.74837091e+00\n",
      "  -1.96705259e+01  9.52966995e+00]\n",
      " [ 6.75172582e+03  5.34916626e+03  1.35450338e+03 ...  5.74417348e+00\n",
      "  -1.96732126e+01  9.52683644e+00]\n",
      " [ 6.74991506e+03  5.34993016e+03  1.35357614e+03 ...  5.73996570e+00\n",
      "  -1.96758906e+01  9.52400428e+00]]\n",
      "[[30. 30. 30. ... 30. 30. 30.]\n",
      " [30. 30. 30. ... 30. 30. 30.]\n",
      " [30. 30. 30. ... 30. 30. 30.]\n",
      " ...\n",
      " [30. 30. 30. ... 30. 30. 30.]\n",
      " [30. 30. 30. ... 30. 30. 30.]\n",
      " [30. 30. 30. ... 30. 30. 30.]]\n"
     ]
    }
   ],
   "source": [
    "# the sample_grid are the rom_coords including the parameter\n",
    "# the train_values are the rom_coords at the next step\n",
    "#\n",
    "x30_sample_grid_tmp = np.delete(x30, (x30.shape[0]-1), axis=0)\n",
    "x30_train_values = np.delete(x30, (0), axis=0)\n",
    "#print(x30)\n",
    "print(x30_sample_grid_tmp)\n",
    "#print(x30_train_values)\n",
    "x30_sample_grid = 30*np.ones((x30_sample_grid_tmp.shape[0],x30_sample_grid_tmp.shape[1]+1))\n",
    "\n",
    "print(x30_sample_grid)\n",
    "\n"
   ]
  },
  {
   "cell_type": "code",
   "execution_count": null,
   "metadata": {},
   "outputs": [],
   "source": [
    "#train_values = samples_optimal_clustering.reshape(110)\n",
    "#train_values = np.concatenate((lcs0, lcs1, lcs2, lcs3, lcs4, lcs5, lcs6, lcs7))\n",
    "#print(train_values)\n",
    "#train_values = np.reshape(train_values,(lcs0.shape[0],8), order='F')\n",
    "#print(train_values.shape)\n",
    "#train_values = 1./train_values\n",
    "#np.argmax(train_values, axis = 1)\n",
    "#for i in range(0,train_values.shape[0]):\n",
    "#    sum_row = np.sum(train_values[i,:])\n",
    "#    train_values[i,:] = train_values[i,:] / sum_row\n",
    "    #print(sum_row)\n",
    "#print(train_values)\n",
    "train_values = np.transpose(trainANN)\n",
    "print(trainANN)\n",
    "print(train_values.shape)\n",
    "print(train_values.shape[1])"
   ]
  },
  {
   "cell_type": "code",
   "execution_count": null,
   "metadata": {},
   "outputs": [],
   "source": [
    "f_sample_grid = open('sample_grid.txt', 'r')\n",
    "sample_grid = np.loadtxt(f_sample_grid)\n",
    "print(sample_grid.shape)\n",
    "print(sample_grid)"
   ]
  },
  {
   "cell_type": "code",
   "execution_count": null,
   "metadata": {},
   "outputs": [],
   "source": [
    "model = keras.Sequential([\n",
    "    keras.layers.Dense(512, activation='relu', input_shape=[2]),\n",
    "    keras.layers.Dense(512, activation='relu'),\n",
    "    keras.layers.Dense(512, activation='relu'),\n",
    "    keras.layers.Dense(512, activation='relu'),\n",
    "    keras.layers.Dense(512, activation='relu'),\n",
    "    keras.layers.Dense(512, activation='relu'),\n",
    "    keras.layers.Dense(512, activation='relu'),\n",
    "    keras.layers.Dense(512, activation='relu'),\n",
    "    keras.layers.Dense(512, activation='relu'),\n",
    "    keras.layers.Dense(train_values.shape[1])\n",
    "])"
   ]
  },
  {
   "cell_type": "code",
   "execution_count": null,
   "metadata": {},
   "outputs": [],
   "source": [
    "model.compile(optimizer='adam',\n",
    "              loss='mse',\n",
    "              metrics=['mae', 'mse'])"
   ]
  },
  {
   "cell_type": "code",
   "execution_count": null,
   "metadata": {},
   "outputs": [],
   "source": [
    "model.fit(sample_grid, train_values, epochs=10000)"
   ]
  },
  {
   "cell_type": "code",
   "execution_count": null,
   "metadata": {},
   "outputs": [],
   "source": [
    "pred_sg = model.predict(sample_grid)\n",
    "print(pred_sg.shape)"
   ]
  },
  {
   "cell_type": "code",
   "execution_count": null,
   "metadata": {},
   "outputs": [],
   "source": [
    "np.argmax(pred_sg, axis=1)\n"
   ]
  },
  {
   "cell_type": "code",
   "execution_count": null,
   "metadata": {},
   "outputs": [],
   "source": [
    "np.argmax(train_values, axis = 1)"
   ]
  },
  {
   "cell_type": "code",
   "execution_count": null,
   "metadata": {},
   "outputs": [],
   "source": [
    "np.argmax(pred_sg, axis=1) - np.argmax(train_values, axis = 1)"
   ]
  },
  {
   "cell_type": "code",
   "execution_count": null,
   "metadata": {},
   "outputs": [],
   "source": [
    "f_fine_sample_grid = open('fine_sample_grid.txt', 'r')\n",
    "fine_sample_grid = np.loadtxt(f_fine_sample_grid)\n",
    "print(fine_sample_grid.shape)\n",
    "print(fine_sample_grid)"
   ]
  },
  {
   "cell_type": "code",
   "execution_count": null,
   "metadata": {},
   "outputs": [],
   "source": [
    "pred_fsg = model.predict(fine_sample_grid)\n",
    "np.set_printoptions(threshold=np.inf)\n",
    "print(pred_fsg.shape)\n",
    "np.savetxt('pred_fsg.txt', pred_fsg)\n",
    "#np.argmax(pred_fsg, axis=1)"
   ]
  },
  {
   "cell_type": "code",
   "execution_count": null,
   "metadata": {},
   "outputs": [],
   "source": [
    "#f_combination_optimal_c = open('combination_optimal_c.txt', 'r')\n",
    "#combination_optimal_c = np.loadtxt(f_combination_optimal_c)\n",
    "#print(combination_optimal_c)\n",
    "#print(sample_grid.shape)\n",
    "#print(train_values.shape)\n",
    "#print(combination_optimal_c.shape)\n",
    "#detailed_train_values = combination_optimal_c.reshape(1640)\n",
    "#print(detailed_train_values.shape)"
   ]
  },
  {
   "cell_type": "code",
   "execution_count": null,
   "metadata": {},
   "outputs": [],
   "source": [
    "#model_2 = keras.Sequential([\n",
    "#    keras.layers.Dense(2, activation='relu'),\n",
    "#    keras.layers.Dense(1024, activation='relu'),\n",
    "#    keras.layers.Dense(1024, activation='relu'),\n",
    "#    keras.layers.Dense(8, activation='softmax')\n",
    "#])\n",
    "#model_2.compile(optimizer='adam',\n",
    "#              loss='sparse_categorical_crossentropy',\n",
    "#              metrics=['accuracy'])\n",
    "#model_2.fit(fine_sample_grid, detailed_train_values, epochs=500)"
   ]
  },
  {
   "cell_type": "code",
   "execution_count": null,
   "metadata": {},
   "outputs": [],
   "source": [
    "#pred_mod2 = model_2.predict(fine_sample_grid)\n",
    "#save_pred_mod2_fsg = np.argmax(pred_mod2, axis=1)\n",
    "#np.savetxt('save_pred_mod2_fsg.txt', save_pred_mod2_fsg)"
   ]
  },
  {
   "cell_type": "code",
   "execution_count": null,
   "metadata": {},
   "outputs": [],
   "source": [
    "pred_mod1 = np.argmax(pred_fsg, axis=1)\n",
    "#np.savetxt('smart_save_pred_mod1_fsg.txt', pred_mod1)"
   ]
  },
  {
   "cell_type": "code",
   "execution_count": null,
   "metadata": {},
   "outputs": [],
   "source": []
  },
  {
   "cell_type": "code",
   "execution_count": null,
   "metadata": {},
   "outputs": [],
   "source": []
  }
 ],
 "metadata": {
  "kernelspec": {
   "display_name": "Python 3",
   "language": "python",
   "name": "python3"
  },
  "language_info": {
   "codemirror_mode": {
    "name": "ipython",
    "version": 3
   },
   "file_extension": ".py",
   "mimetype": "text/x-python",
   "name": "python",
   "nbconvert_exporter": "python",
   "pygments_lexer": "ipython3",
   "version": "3.8.5"
  }
 },
 "nbformat": 4,
 "nbformat_minor": 2
}
